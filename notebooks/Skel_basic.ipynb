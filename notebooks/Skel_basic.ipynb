{
 "cells": [
  {
   "cell_type": "code",
   "execution_count": null,
   "metadata": {},
   "outputs": [],
   "source": []
  },
  {
   "cell_type": "markdown",
   "metadata": {},
   "source": [
    "The joints definition of SKEL is as below:\n",
    "\n",
    "![](assets/SKEL-joints.png)"
   ]
  },
  {
   "cell_type": "code",
   "execution_count": null,
   "metadata": {},
   "outputs": [],
   "source": [
    "# 24 joints ~ 46 DoF\n",
    "[\n",
    "    {'qid': 0, 'name': 'pelvis', 'jid': 0},\n",
    "    {'qid': 1, 'name': 'pelvis', 'jid': 0},\n",
    "    {'qid': 2, 'name': 'pelvis', 'jid': 0},\n",
    "    {'qid': 3, 'name': 'femur-r', 'jid': 1},\n",
    "    {'qid': 4, 'name': 'femur-r', 'jid': 1},\n",
    "    {'qid': 5, 'name': 'femur-r', 'jid': 1},\n",
    "    {'qid': 6, 'name': 'tibia-r', 'jid': 2},\n",
    "    {'qid': 7, 'name': 'talus-r', 'jid': 3},\n",
    "    {'qid': 8, 'name': 'calcn-r', 'jid': 4},\n",
    "    {'qid': 9, 'name': 'toes-r', 'jid': 5},\n",
    "    {'qid': 10, 'name': 'femur-l', 'jid': 6},\n",
    "    {'qid': 11, 'name': 'femur-l', 'jid': 6},\n",
    "    {'qid': 12, 'name': 'femur-l', 'jid': 6},\n",
    "    {'qid': 13, 'name': 'tibia-l', 'jid': 7},\n",
    "    {'qid': 14, 'name': 'talus-l', 'jid': 8},\n",
    "    {'qid': 15, 'name': 'calcn-l', 'jid': 9},\n",
    "    {'qid': 16, 'name': 'toes-l', 'jid': 10},\n",
    "    {'qid': 17, 'name': 'lumbar', 'jid': 11},\n",
    "    {'qid': 18, 'name': 'lumbar', 'jid': 11},\n",
    "    {'qid': 19, 'name': 'lumbar', 'jid': 11},\n",
    "    {'qid': 20, 'name': 'thorax', 'jid': 12},\n",
    "    {'qid': 21, 'name': 'thorax', 'jid': 12},\n",
    "    {'qid': 22, 'name': 'thorax', 'jid': 12},\n",
    "    {'qid': 23, 'name': 'head', 'jid': 13},\n",
    "    {'qid': 24, 'name': 'head', 'jid': 13},\n",
    "    {'qid': 25, 'name': 'head', 'jid': 13},\n",
    "    {'qid': 26, 'name': 'scapula-r', 'jid': 14},\n",
    "    {'qid': 27, 'name': 'scapula-r', 'jid': 14},\n",
    "    {'qid': 28, 'name': 'scapula-r', 'jid': 14},\n",
    "    {'qid': 29, 'name': 'humerus-r', 'jid': 15},\n",
    "    {'qid': 30, 'name': 'humerus-r', 'jid': 15},\n",
    "    {'qid': 31, 'name': 'humerus-r', 'jid': 15},\n",
    "    {'qid': 32, 'name': 'ulna-r', 'jid': 16},\n",
    "    {'qid': 33, 'name': 'radius-r', 'jid': 17},\n",
    "    {'qid': 34, 'name': 'hand-r', 'jid': 18},\n",
    "    {'qid': 35, 'name': 'hand-r', 'jid': 18},\n",
    "    {'qid': 36, 'name': 'scapular-l', 'jid': 19},\n",
    "    {'qid': 37, 'name': 'scapular-l', 'jid': 19},\n",
    "    {'qid': 38, 'name': 'scapular-l', 'jid': 19},\n",
    "    {'qid': 39, 'name': 'humerus-l', 'jid': 20},\n",
    "    {'qid': 40, 'name': 'humerus-l', 'jid': 20},\n",
    "    {'qid': 41, 'name': 'humerus-l', 'jid': 20},\n",
    "    {'qid': 42, 'name': 'ulna-l', 'jid': 21},\n",
    "    {'qid': 43, 'name': 'radius-l', 'jid': 22},\n",
    "    {'qid': 44, 'name': 'hand-l', 'jid': 23},\n",
    "    {'qid': 45, 'name': 'hand-l', 'jid': 23},\n",
    "]"
   ]
  }
 ],
 "metadata": {
  "language_info": {
   "name": "python"
  }
 },
 "nbformat": 4,
 "nbformat_minor": 2
}
