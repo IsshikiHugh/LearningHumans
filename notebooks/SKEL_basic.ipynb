{
 "cells": [
  {
   "cell_type": "markdown",
   "metadata": {},
   "source": [
    "# SKEL-basic\n",
    "\n",
    "SKEL unifies the SMPL model and BSM model, which has the ability to represent realistic human skin and realistic human skeleton with the same set of parameters.\n",
    "\n",
    "In this notebook, we will introduce the basic usage of `skel` model.\n",
    "\n",
    "## Preparation\n",
    "\n",
    "You need to follow the instruction from SKEL's official website to install the SKEL model in the third_party folder. You can first check the instruction [here](../third_party/prepare_SKEL.md).\n",
    "\n",
    "## Tutorials"
   ]
  },
  {
   "cell_type": "markdown",
   "metadata": {},
   "source": [
    "### Environment Preparation"
   ]
  },
  {
   "cell_type": "code",
   "execution_count": 1,
   "metadata": {},
   "outputs": [],
   "source": [
    "# Packages you may use very often.\n",
    "import torch\n",
    "import numpy as np\n",
    "from skel.skel_model import SKEL\n",
    "from pytorch3d import transforms  # You may use this package when performing rotation representation transformation.\n",
    "\n",
    "# Things you don't need to care about. They are just for driving the tutorials.\n",
    "from lib.utils.path_manager import PathManager\n",
    "from lib.viewer.wis3d_utils import HWis3D as Wis3D\n",
    "from lib.skeleton import Skeleton_SMPL24\n",
    "\n",
    "pm = PathManager()"
   ]
  },
  {
   "cell_type": "markdown",
   "metadata": {},
   "source": [
    "### Load SMPL model"
   ]
  },
  {
   "cell_type": "code",
   "execution_count": 3,
   "metadata": {},
   "outputs": [],
   "source": [
    "skel_models = {}\n",
    "genders = ['male', 'female']\n",
    "\n",
    "for gender in genders:\n",
    "    skel_models[gender] = SKEL(\n",
    "            model_path = pm.inputs / 'body_models' / 'skel_models_v1.1',\n",
    "            gender     = gender,\n",
    "        )"
   ]
  },
  {
   "cell_type": "code",
   "execution_count": 4,
   "metadata": {},
   "outputs": [
    {
     "name": "stdout",
     "output_type": "stream",
     "text": [
      "skin_mesh_temp.shape: torch.Size([13776, 3])\n",
      "skel_mesh_temp.shape: torch.Size([126665, 3])\n"
     ]
    }
   ],
   "source": [
    "# Prepare some parameters for later inference.\n",
    "B = 10\n",
    "skel_model : SKEL = skel_models['male']  # use male for example\n",
    "\n",
    "# Prepare mesh template for later visualization.\n",
    "# Tips: mesh = vertices + faces, and the faces are the indices of vertices, which won't change across SMPL's outputs.\n",
    "skin_mesh_temp : np.ndarray = skel_model.skin_f  # (13776, 3)\n",
    "print(f'skin_mesh_temp.shape: {skin_mesh_temp.shape}')\n",
    "skel_mesh_temp : np.ndarray = skel_model.skel_f  # (126665, 3)\n",
    "print(f'skel_mesh_temp.shape: {skel_mesh_temp.shape}')"
   ]
  },
  {
   "cell_type": "markdown",
   "metadata": {},
   "source": [
    "As you can see, the SKEL model has 2 types of mesh, one is SMPL style skin mesh, and the other is BSM style skeleton mesh. And the topology of skeleton mesh is far more complex than skin's. Which means, produce the vertices of skeleton is much more expensive (in memory) than simply skin's. We will see that SKEL allows us to turn off the skeleton's vertices."
   ]
  },
  {
   "cell_type": "markdown",
   "metadata": {},
   "source": [
    "### SKEL Inference"
   ]
  },
  {
   "cell_type": "code",
   "execution_count": 6,
   "metadata": {},
   "outputs": [
    {
     "name": "stdout",
     "output_type": "stream",
     "text": [
      "joint.shape: (10, 24, 3)\n",
      "skin_verts.shape: (10, 6890, 3)\n",
      "skel_verts.shape: (10, 247252, 3)\n"
     ]
    }
   ],
   "source": [
    "# Inference.\n",
    "skel_out = skel_model(\n",
    "        betas    = torch.zeros(B, 10),  # shape coefficients\n",
    "        poses    = torch.zeros(B, 46),  # axis-angle representation\n",
    "        trans    = torch.zeros(B, 3),\n",
    "        skelmesh = True,  # default `True`, turn off this to save memory\n",
    "    )\n",
    "\n",
    "# Check output.\n",
    "joints     : torch.Tensor = skel_out.joints      # (B, 45, 3)\n",
    "skin_verts : torch.Tensor = skel_out.skin_verts  # (B, 6890, 3)\n",
    "skel_verts : torch.Tensor = skel_out.skel_verts  # (B, 247252, 3)\n",
    "print(f'joint.shape: {tuple(joints.shape)}')\n",
    "print(f'skin_verts.shape: {tuple(skin_verts.shape)}')\n",
    "print(f'skel_verts.shape: {tuple(skel_verts.shape)}')"
   ]
  },
  {
   "cell_type": "markdown",
   "metadata": {},
   "source": [
    "As you can see, the number of vertices for skeleton is much larger than skin. This will cause negative impact when you want to perform batch inference. Fortunately, we can turn off the skeleton's vertices to save memory."
   ]
  },
  {
   "cell_type": "markdown",
   "metadata": {},
   "source": [
    "#### SKEL Skeleton\n",
    "\n",
    "The joints definition of SKEL is as below. "
   ]
  },
  {
   "cell_type": "markdown",
   "metadata": {},
   "source": [
    "As you can see, different from SMPL's, not all joints of SKEL has 3 degrees of freedom. In the figure below, each joints is annotated with: `<joint_id> <joint_name>(<DoF>)`.\n",
    "\n",
    "![](assets/SKEL-joints.png)\n",
    "\n",
    "And the bones (edge in kinematic tree) and joints definition are shown below."
   ]
  },
  {
   "cell_type": "code",
   "execution_count": null,
   "metadata": {},
   "outputs": [],
   "source": [
    "chains = [\n",
    "    [0, 1, 4, 7, 10],     # left leg\n",
    "    [0, 2, 5, 8, 11],     # right leg\n",
    "    [0, 3, 6, 9, 12, 15], # spine & head\n",
    "    [12, 13, 16, 18, 20], # left arm\n",
    "    [12, 14, 17, 19, 21], # right arm\n",
    "]\n",
    "bones = [\n",
    "    [ 0,  1], [ 1,  4], [ 4,  7], [ 7, 10],           # left leg\n",
    "    [ 0,  2], [ 2,  5], [ 5,  8], [ 8, 11],           # right leg\n",
    "    [ 0,  3], [ 3,  6], [ 6,  9], [ 9, 12], [12, 15], # spine & head\n",
    "    [12, 13], [13, 16], [16, 18], [18, 20],           # left arm\n",
    "    [12, 14], [14, 17], [17, 19], [19, 21],           # right arm\n",
    "]\n",
    "\n",
    "# 24 joints ~ 46 DoF\n",
    "components = [\n",
    "    {'qid': 0, 'name': 'pelvis', 'jid': 0},\n",
    "    {'qid': 1, 'name': 'pelvis', 'jid': 0},\n",
    "    {'qid': 2, 'name': 'pelvis', 'jid': 0},\n",
    "    {'qid': 3, 'name': 'femur-r', 'jid': 1},\n",
    "    {'qid': 4, 'name': 'femur-r', 'jid': 1},\n",
    "    {'qid': 5, 'name': 'femur-r', 'jid': 1},\n",
    "    {'qid': 6, 'name': 'tibia-r', 'jid': 2},\n",
    "    {'qid': 7, 'name': 'talus-r', 'jid': 3},\n",
    "    {'qid': 8, 'name': 'calcn-r', 'jid': 4},\n",
    "    {'qid': 9, 'name': 'toes-r', 'jid': 5},\n",
    "    {'qid': 10, 'name': 'femur-l', 'jid': 6},\n",
    "    {'qid': 11, 'name': 'femur-l', 'jid': 6},\n",
    "    {'qid': 12, 'name': 'femur-l', 'jid': 6},\n",
    "    {'qid': 13, 'name': 'tibia-l', 'jid': 7},\n",
    "    {'qid': 14, 'name': 'talus-l', 'jid': 8},\n",
    "    {'qid': 15, 'name': 'calcn-l', 'jid': 9},\n",
    "    {'qid': 16, 'name': 'toes-l', 'jid': 10},\n",
    "    {'qid': 17, 'name': 'lumbar', 'jid': 11},\n",
    "    {'qid': 18, 'name': 'lumbar', 'jid': 11},\n",
    "    {'qid': 19, 'name': 'lumbar', 'jid': 11},\n",
    "    {'qid': 20, 'name': 'thorax', 'jid': 12},\n",
    "    {'qid': 21, 'name': 'thorax', 'jid': 12},\n",
    "    {'qid': 22, 'name': 'thorax', 'jid': 12},\n",
    "    {'qid': 23, 'name': 'head', 'jid': 13},\n",
    "    {'qid': 24, 'name': 'head', 'jid': 13},\n",
    "    {'qid': 25, 'name': 'head', 'jid': 13},\n",
    "    {'qid': 26, 'name': 'scapula-r', 'jid': 14},\n",
    "    {'qid': 27, 'name': 'scapula-r', 'jid': 14},\n",
    "    {'qid': 28, 'name': 'scapula-r', 'jid': 14},\n",
    "    {'qid': 29, 'name': 'humerus-r', 'jid': 15},\n",
    "    {'qid': 30, 'name': 'humerus-r', 'jid': 15},\n",
    "    {'qid': 31, 'name': 'humerus-r', 'jid': 15},\n",
    "    {'qid': 32, 'name': 'ulna-r', 'jid': 16},\n",
    "    {'qid': 33, 'name': 'radius-r', 'jid': 17},\n",
    "    {'qid': 34, 'name': 'hand-r', 'jid': 18},\n",
    "    {'qid': 35, 'name': 'hand-r', 'jid': 18},\n",
    "    {'qid': 36, 'name': 'scapula-l', 'jid': 19},\n",
    "    {'qid': 37, 'name': 'scapula-l', 'jid': 19},\n",
    "    {'qid': 38, 'name': 'scapula-l', 'jid': 19},\n",
    "    {'qid': 39, 'name': 'humerus-l', 'jid': 20},\n",
    "    {'qid': 40, 'name': 'humerus-l', 'jid': 20},\n",
    "    {'qid': 41, 'name': 'humerus-l', 'jid': 20},\n",
    "    {'qid': 42, 'name': 'ulna-l', 'jid': 21},\n",
    "    {'qid': 43, 'name': 'radius-l', 'jid': 22},\n",
    "    {'qid': 44, 'name': 'hand-l', 'jid': 23},\n",
    "    {'qid': 45, 'name': 'hand-l', 'jid': 23},\n",
    "]"
   ]
  }
 ],
 "metadata": {
  "kernelspec": {
   "display_name": "lh-skel",
   "language": "python",
   "name": "python3"
  },
  "language_info": {
   "codemirror_mode": {
    "name": "ipython",
    "version": 3
   },
   "file_extension": ".py",
   "mimetype": "text/x-python",
   "name": "python",
   "nbconvert_exporter": "python",
   "pygments_lexer": "ipython3",
   "version": "3.8.17"
  }
 },
 "nbformat": 4,
 "nbformat_minor": 2
}
