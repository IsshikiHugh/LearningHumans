{
 "cells": [
  {
   "cell_type": "markdown",
   "metadata": {},
   "source": [
    "# Rotation Representation\n",
    "\n",
    "Rotation is quite important in human motion (and pose) representation. Here we aim to provide a brief introduction to rotation representation and some related concepts. We won't go into the very details of the mathematics, but we will provide some intuitions and examples.\n",
    "\n",
    "Here is the table of the content:\n",
    "\n",
    "- Eular Angles\n",
    "- Axis-Angle\n",
    "- Rotation Matrix and 6D Vector\n",
    "- Quaternion\n",
    "\n",
    "## Tutorials"
   ]
  },
  {
   "cell_type": "markdown",
   "metadata": {},
   "source": [
    "### Environment Preparation"
   ]
  },
  {
   "cell_type": "code",
   "execution_count": 1,
   "metadata": {},
   "outputs": [],
   "source": [
    "# Packages you may use very often.\n",
    "import torch\n",
    "import numpy as np\n",
    "from smplx import SMPL\n",
    "from pytorch3d import transforms  # You may use this package when performing rotation representation transformation.\n",
    "\n",
    "# Things you don't need to care about. They are just for driving the tutorials.\n",
    "from lib.utils.path_manager import PathManager\n",
    "from lib.viewer.wis3d_utils import HWis3D as Wis3D\n",
    "from lib.skeleton import Skeleton_SMPL24\n",
    "\n",
    "pm = PathManager()"
   ]
  },
  {
   "cell_type": "markdown",
   "metadata": {},
   "source": [
    "In this chapter, we will visualize the effect of the rotation through the facing director of a digital human. You can just ignore things related to `SMPL` model, and we will introduce it in [SMPL-basic](SMPL_basic.ipynb)."
   ]
  },
  {
   "cell_type": "code",
   "execution_count": null,
   "metadata": {},
   "outputs": [],
   "source": [
    "# We will use a digital human to represent the direction change.\n",
    "body_model = SMPL(\n",
    "        model_path = pm.inputs / 'body_models' / 'smpl',\n",
    "        gender     = 'neutral',\n",
    "    )"
   ]
  },
  {
   "cell_type": "markdown",
   "metadata": {},
   "source": [
    "### Simple Transformation"
   ]
  },
  {
   "cell_type": "markdown",
   "metadata": {},
   "source": [
    "You may only have data in one specific rotation representation, and you want to convert it to another representation. You can easily achieve this by using `pytorch3d` package. Here we give an example of converting common other representation to axis angle."
   ]
  },
  {
   "cell_type": "code",
   "execution_count": null,
   "metadata": {},
   "outputs": [],
   "source": [
    "def to_axis_angle(\n",
    "    rotation   : torch.Tensor,\n",
    "    rot_format : str,\n",
    "):\n",
    "    \"\"\" Utils to transform the rotation representation. \"\"\"\n",
    "\n",
    "    # 1. Transform the rotation representation to axis angle.\n",
    "    if rot_format == \"euler_angle\":\n",
    "        res = transforms.euler_angles_to_matrix(rotation, \"XYZ\").reshape(-1, 1, 3)\n",
    "    elif rot_format == \"axis_angle\":\n",
    "        res = rotation.reshape(-1, 1, 3)\n",
    "    elif rot_format == \"rotation_matrix\":\n",
    "        res = transforms.matrix_to_axis_angle(rotation).reshape(-1, 1, 3)\n",
    "    elif rot_format == \"rotation_6d\":\n",
    "        rotation = transforms.rotation_6d_to_matrix(rotation)\n",
    "        res = transforms.matrix_to_axis_angle(rotation).reshape(-1, 1, 3)\n",
    "    elif rot_format == \"quaternion\":\n",
    "        res = transforms.quaternion_to_matrix(rotation).reshape(-1, 1, 3)\n",
    "    else:\n",
    "        raise NotImplementedError(f\"Unknown rotation format: {rot_format}\")\n",
    "\n",
    "    return res"
   ]
  },
  {
   "cell_type": "markdown",
   "metadata": {},
   "source": [
    "### Euler Angle"
   ]
  },
  {
   "cell_type": "markdown",
   "metadata": {},
   "source": [
    "You can check this video for an intuitive understanding of Euler angles:\n",
    " [Euler angles - Insights | YouTube](https://www.youtube.com/watch?v=qqlLshaHqeE)"
   ]
  },
  {
   "cell_type": "markdown",
   "metadata": {},
   "source": [
    "### Axis Angle"
   ]
  },
  {
   "cell_type": "markdown",
   "metadata": {},
   "source": [
    "An axis angle is represented as a 3D vector, let's note it as $[x, y, z]$. The direction of the vector represents the rotation axis, and the length of the vector represents the rotation angle.\n",
    "\n",
    "For example, a vector $\\vec{r} = [x, y, z]$ represents a rotation around the axis $\\frac{\\vec{r}}{||\\vec{r}||}$ in radians $||\\vec{r}||$."
   ]
  },
  {
   "cell_type": "markdown",
   "metadata": {},
   "source": [
    "### Rotation Matrix and 6D Vector"
   ]
  },
  {
   "cell_type": "markdown",
   "metadata": {},
   "source": [
    "Rotation matrix is a 3x3 matrix that can be used to represent a rotation in 3D space.\n",
    "\n",
    "If we only leave the first two columns of the rotation matrix, we can get a 3x2 matrix. We can flatten this matrix to a 6D vector.\n",
    "\n",
    "So, why do we need to use 6D vector to represent a rotation matrix? Check this: [On the Continuity of Rotation Representations in Neural Networks](http://arxiv.org/abs/1812.07035)."
   ]
  },
  {
   "cell_type": "markdown",
   "metadata": {},
   "source": [
    "### Quaternion"
   ]
  },
  {
   "cell_type": "markdown",
   "metadata": {},
   "source": [
    "Quaternion is a 4D vector that can be used to represent a rotation in 3D space."
   ]
  },
  {
   "cell_type": "markdown",
   "metadata": {},
   "source": [
    "## References\n",
    "\n",
    "- [图形学笔记.旋转相关 | 二圈妹](https://zhuanlan.zhihu.com/p/66157419)"
   ]
  }
 ],
 "metadata": {
  "kernelspec": {
   "display_name": "lh",
   "language": "python",
   "name": "python3"
  },
  "language_info": {
   "codemirror_mode": {
    "name": "ipython",
    "version": 3
   },
   "file_extension": ".py",
   "mimetype": "text/x-python",
   "name": "python",
   "nbconvert_exporter": "python",
   "pygments_lexer": "ipython3",
   "version": "3.8.17"
  }
 },
 "nbformat": 4,
 "nbformat_minor": 2
}
