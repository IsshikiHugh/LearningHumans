{
 "cells": [
  {
   "cell_type": "markdown",
   "metadata": {},
   "source": [
    "# SMPLH-basic\n",
    "\n",
    "SMPLH extends SMPL with poses of hands.\n",
    "\n",
    "In this notebook, we will introduce the basic usage of `smplx.SMPLH` model, and some common problems you may encounter.\n",
    "\n",
    "And there is a \"SMPL family\", which is a set of models related to SMPL. You can have a overview of them in [SMPL wiki](https://meshcapade.wiki/SMPL).\n",
    "\n",
    "The basic usage of SMPLH is quite like SMPL, so we will be brief in the basic concept, and mainly focus on the differences between them. However, the **data of SMPL and SMPLH have some differences** (from the inputs to the outputs), you shouldn't mix them up.\n",
    "\n",
    "## Preparation\n",
    "\n",
    "You should also prepare the environments for SMPL, check the [SMPL-basic](./SMPL_basic.ipynb) for more details.\n",
    "\n",
    "You can get the checkpoints from [MANO](https://mano.is.tue.mpg.de/), click \"Download/Extended SMPL+H model\" to get the checkpoint. You may notice that it has checkpoints in `.npz` postfix and checkpoints in `.pkl` postfix. The difference is that: **models with `.npz` has betas with 16 components, while models with `.pkl` have classic 10 components betas**.\n",
    "\n",
    "After downloading the SMPLH's checkpoints, you should put them to `data_inputs/body_models/smplh`, your directory tree should look like this:\n",
    "\n",
    "```\n",
    ".\n",
    "├── SMPLH_FEMALE.pkl    # beta 10\n",
    "├── SMPLH_MALE.pkl      # beta 10\n",
    "├── female\n",
    "│   └── model.npz       # beta 16\n",
    "├── male\n",
    "│   └── model.npz       # beta 16\n",
    "└── neutral\n",
    "    └── model.npz       # beta 16\n",
    "```\n",
    "\n",
    "## Tutorials"
   ]
  },
  {
   "cell_type": "markdown",
   "metadata": {},
   "source": [
    "### Environment Preparation"
   ]
  },
  {
   "cell_type": "code",
   "execution_count": 15,
   "metadata": {},
   "outputs": [],
   "source": [
    "# Packages you may use very often.\n",
    "import torch\n",
    "import numpy as np\n",
    "from smplx import SMPL, SMPLH\n",
    "from pytorch3d import transforms  # You may use this package when performing rotation representation transformation.\n",
    "\n",
    "# Things you don't need to care about. They are just for driving the tutorials.\n",
    "from lib.utils.path_manager import PathManager\n",
    "from lib.viewer.wis3d_utils import HWis3D as Wis3D\n",
    "from lib.skeleton import Skeleton_SMPL24, Skeleton_SMPL22\n",
    "\n",
    "pm = PathManager()"
   ]
  },
  {
   "cell_type": "markdown",
   "metadata": {},
   "source": [
    "### Load SMPLH model"
   ]
  },
  {
   "cell_type": "code",
   "execution_count": 27,
   "metadata": {},
   "outputs": [
    {
     "name": "stdout",
     "output_type": "stream",
     "text": [
      "WARNING: You are using a SMPL+H model, with only 10 shape coefficients.\n",
      "WARNING: You are using a SMPL+H model, with only 10 shape coefficients.\n",
      "torch.Size([6890, 3, 10])\n",
      "(13776, 3)\n"
     ]
    }
   ],
   "source": [
    "B = 150\n",
    "\n",
    "body_models = {}\n",
    "genders = ['female', 'male']  # case insensitive\n",
    "\n",
    "for gender in genders:\n",
    "    body_models[gender] = SMPLH(\n",
    "            model_path = pm.inputs / 'body_models' / 'smplh',\n",
    "            gender     = gender,\n",
    "            batch_size = 150,\n",
    "        )\n",
    "\n",
    "# Prepare some parameters for later inference.\n",
    "body_model : SMPLH = body_models['male']  # use male for example\n",
    "print(body_model.shapedirs.shape)        # (6890, 3, 10)\n",
    "\n",
    "# Prepare mesh template for later visualization.\n",
    "# Tips: mesh = vertices + faces, and the faces are the indices of vertices, which won't change across SMPL's outputs.\n",
    "mesh_temp : np.ndarray = body_model.faces\n",
    "print(mesh_temp.shape)  # (13776, 3)"
   ]
  },
  {
   "cell_type": "markdown",
   "metadata": {},
   "source": [
    "We can find that, the shape of `faces` doesn't changes. Which means the **vertices of SMPLH model is similar to SMPL model's**. We will dive into this later.\n",
    "\n",
    "As we mentioned before, the `betas` of SMPLH model can have 16 components, although it's not directly supported by `smplx.SMPLH`, if you want to use it, you can use the following codes:"
   ]
  },
  {
   "cell_type": "code",
   "execution_count": 26,
   "metadata": {},
   "outputs": [
    {
     "name": "stdout",
     "output_type": "stream",
     "text": [
      "torch.Size([6890, 3, 16])\n",
      "(13776, 3)\n"
     ]
    }
   ],
   "source": [
    "from typing import Union\n",
    "from pathlib import Path\n",
    "from smplx.utils import Struct\n",
    "\n",
    "def build_smplh_16(bm_path:Union[str, Path], batch_size:int):\n",
    "    if isinstance(bm_path, Path):\n",
    "        bm_path = str(bm_path)\n",
    "\n",
    "    smplh_dict = np.load(bm_path, encoding=\"latin1\")\n",
    "    data_struct = Struct(**smplh_dict)\n",
    "    data_struct.hands_componentsl = np.zeros((0))\n",
    "    data_struct.hands_componentsr = np.zeros((0))\n",
    "    data_struct.hands_meanl = np.zeros((15 * 3))\n",
    "    data_struct.hands_meanr = np.zeros((15 * 3))\n",
    "    V, D, B = data_struct.shapedirs.shape\n",
    "    data_struct.shapedirs = np.concatenate(\n",
    "        [data_struct.shapedirs, np.zeros((V, D, SMPL.SHAPE_SPACE_DIM - B))],\n",
    "        axis=-1,\n",
    "    )  # super hacky way to let smplh use 16-size beta\n",
    "    kwargs = {\n",
    "            \"model_type\"           : \"smplh\",\n",
    "            \"data_struct\"          : data_struct,\n",
    "            \"num_betas\"            : 16,\n",
    "            \"num_expression_coeffs\": 10,\n",
    "            \"use_pca\"              : False,\n",
    "            \"flat_hand_mean\"       : False,\n",
    "            \"batch_size\"           : batch_size,\n",
    "        }\n",
    "    return SMPLH(bm_path, **kwargs)\n",
    "\n",
    "body_models_16 = {}\n",
    "genders_16 = ['neutral', 'female', 'male']  # case sensitive\n",
    "\n",
    "for gender in genders_16:\n",
    "    bm_path = pm.inputs / 'body_models' / 'smplh' / gender / 'model.npz'\n",
    "    body_models_16[gender] = build_smplh_16(bm_path, B)\n",
    "\n",
    "body_model_16 : SMPLH = body_models_16['neutral']\n",
    "print(body_model_16.shapedirs.shape)  # (6890, 3, 16)\n",
    "\n",
    "# Prepare mesh template for later visualization.\n",
    "# Tips: mesh = vertices + faces, and the faces are the indices of vertices, which won't change across SMPL's outputs.\n",
    "mesh_temp_16 : np.ndarray = body_model_16.faces\n",
    "print(mesh_temp_16.shape)  # (13776, 3)"
   ]
  },
  {
   "cell_type": "markdown",
   "metadata": {},
   "source": [
    "### SMPL-H Inference"
   ]
  },
  {
   "cell_type": "code",
   "execution_count": 28,
   "metadata": {},
   "outputs": [
    {
     "name": "stdout",
     "output_type": "stream",
     "text": [
      "torch.Size([150, 73, 3]) torch.Size([150, 6890, 3])\n"
     ]
    }
   ],
   "source": [
    "# Inference.\n",
    "smplh_out = body_model(\n",
    "        betas         = torch.zeros(B, 10),\n",
    "        global_orient = torch.zeros(B, 3),\n",
    "        body_pose     = torch.zeros(B, 63),\n",
    "        transl        = torch.zeros(B, 3),\n",
    "    )\n",
    "\n",
    "# Check output.\n",
    "joints : torch.Tensor = smplh_out.joints    # (B, 73, 3)\n",
    "verts  : torch.Tensor = smplh_out.vertices  # (B, 6890, 3)\n",
    "print(joints.shape, verts.shape)"
   ]
  },
  {
   "cell_type": "markdown",
   "metadata": {},
   "source": [
    "I want to highlight that, the input format of `smplx.SMPLH` is not similar to `smplx.SMPL`'s. For example, the shape of the tensor inputted to `body_pose`, changes from `(B, J, 3)` to `(B, J'*3)`, where `J = 23` and `J' = 21`, so does the `global_orient`, which changes from `(B, 1, 3)` to `(B, 1*3)`.\n",
    "\n",
    "> The reason why `J'` decreases to 21 is that, SMPL-X decouples the pose of hands from body pose to `left_hand_pose` and `right_hand_pose`, so that it can express more complex hand movements. Check the paper for details if you are interested. Hands are not what we are going to talk about here.\n",
    "\n",
    "You will see later that the output mesh of SMPL and SMPL-H is quite similar but still with some small differences."
   ]
  },
  {
   "cell_type": "code",
   "execution_count": 32,
   "metadata": {},
   "outputs": [],
   "source": [
    "smplh_wis3d = Wis3D(\n",
    "        pm.outputs / 'wis3d',\n",
    "        'SMPLH',\n",
    "    )\n",
    "\n",
    "smplh_wis3d.add_motion_verts(\n",
    "        verts  = verts[:1],\n",
    "        name   = f'smplh_T_pose',\n",
    "        offset = 0,\n",
    "    )"
   ]
  },
  {
   "cell_type": "code",
   "execution_count": 6,
   "metadata": {},
   "outputs": [
    {
     "name": "stdout",
     "output_type": "stream",
     "text": [
      "Serving on http://0.0.0.0:19090\n",
      "^C\n"
     ]
    }
   ],
   "source": [
    "# Start the server. (Remember to terminate the cell before going on.)\n",
    "!wis3d --vis_dir {pm.outputs / 'wis3d'} --host 0.0.0.0 --port 19090"
   ]
  },
  {
   "cell_type": "markdown",
   "metadata": {},
   "source": [
    "### SMPL-H v.s. SMPL"
   ]
  },
  {
   "cell_type": "markdown",
   "metadata": {},
   "source": [
    "The output of SMPL and SMPL-H are quite alike, but there are still some small differences. For example, you will see that the hands of SMPL-H are more realistic than SMPL's. "
   ]
  },
  {
   "cell_type": "code",
   "execution_count": 29,
   "metadata": {},
   "outputs": [
    {
     "name": "stdout",
     "output_type": "stream",
     "text": [
      "WARNING: You are using a SMPL model, with only 10 shape coefficients.\n"
     ]
    }
   ],
   "source": [
    "# Generate the SMPL T-pose.\n",
    "body_model_smpl = SMPL(model_path=pm.inputs/'body_models'/'smpl', gender=\"neutral\")\n",
    "smpl_out = body_model_smpl()\n",
    "smpl_verts = smpl_out.vertices\n",
    "smpl_joints = smpl_out.joints"
   ]
  },
  {
   "cell_type": "code",
   "execution_count": 39,
   "metadata": {},
   "outputs": [
    {
     "name": "stdout",
     "output_type": "stream",
     "text": [
      "torch.Size([24, 6890])\n",
      "torch.Size([150, 24, 3])\n"
     ]
    }
   ],
   "source": [
    "smpl_vs_smplh_wis3d = Wis3D(\n",
    "        pm.outputs / 'wis3d',\n",
    "        'SMPL v.s. SMPLH',\n",
    "    )\n",
    "\n",
    "# Visualize SMPL results.\n",
    "smpl_vs_smplh_wis3d.add_motion_verts(\n",
    "    verts  = smpl_verts[:1],\n",
    "    name   = f'smpl_T_pose',\n",
    "    offset = 0,\n",
    ")\n",
    "\n",
    "smpl_vs_smplh_wis3d.add_motion_skel(\n",
    "    joints = smpl_joints[:1, :22],\n",
    "    bones  = Skeleton_SMPL22.bones,\n",
    "    colors = Skeleton_SMPL22.bone_colors,\n",
    "    name   = f'smpl_T_pose',\n",
    "    offset = 0,\n",
    ")\n",
    "\n",
    "# Visualize SMPL-H results.\n",
    "smpl_vs_smplh_wis3d.add_motion_verts(\n",
    "    verts  = verts[:1],\n",
    "    name   = f'smplh_T_pose',\n",
    "    offset = 0,\n",
    ")\n",
    "\n",
    "smpl_vs_smplh_wis3d.add_motion_skel(\n",
    "    joints = joints[:1, :22],\n",
    "    bones  = Skeleton_SMPL22.bones,\n",
    "    colors = Skeleton_SMPL22.bone_colors,\n",
    "    name   = f'smplh_T_pose',\n",
    "    offset = 0,\n",
    ")\n",
    "\n",
    "# Use J_regressor to get the skeleton.\n",
    "# If you need to change the results to SMPL's format, this way might be better.\n",
    "J_regressor = body_model_smpl.J_regressor\n",
    "print(J_regressor.shape)  # (24, 6890)\n",
    "joints_regressed = J_regressor @ verts\n",
    "print(joints_regressed.shape)  # (B, 24, 3)\n",
    "\n",
    "smpl_vs_smplh_wis3d.add_motion_skel(\n",
    "    joints = joints_regressed[:1, :22],\n",
    "    bones  = Skeleton_SMPL22.bones,\n",
    "    colors = Skeleton_SMPL22.bone_colors,\n",
    "    name   = f'smplh_T_pose_regressed',\n",
    "    offset = 0,\n",
    ")"
   ]
  },
  {
   "cell_type": "code",
   "execution_count": 38,
   "metadata": {},
   "outputs": [
    {
     "name": "stdout",
     "output_type": "stream",
     "text": [
      "Serving on http://0.0.0.0:19090\n",
      "^C\n"
     ]
    }
   ],
   "source": [
    "# Start the server. (Remember to terminate the cell before going on.)\n",
    "!wis3d --vis_dir {pm.outputs / 'wis3d'} --host 0.0.0.0 --port 19090"
   ]
  },
  {
   "cell_type": "markdown",
   "metadata": {},
   "source": [
    "## Additional Resources / Questions & Answers\n",
    "\n",
    "1. Can I transfer the parameters between SMPL, SMPL-H and SMPL-X?\n",
    "   - Yes, check the URLs below:\n",
    "     - https://github.com/vchoutas/smplx/blob/main/transfer_model/README.md"
   ]
  }
 ],
 "metadata": {
  "kernelspec": {
   "display_name": "lh",
   "language": "python",
   "name": "python3"
  },
  "language_info": {
   "codemirror_mode": {
    "name": "ipython",
    "version": 3
   },
   "file_extension": ".py",
   "mimetype": "text/x-python",
   "name": "python",
   "nbconvert_exporter": "python",
   "pygments_lexer": "ipython3",
   "version": "3.8.17"
  }
 },
 "nbformat": 4,
 "nbformat_minor": 2
}
