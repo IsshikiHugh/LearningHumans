{
 "cells": [
  {
   "cell_type": "markdown",
   "metadata": {},
   "source": [
    "# Skeletons\n",
    "\n",
    "We usually use a skeletons with key-points and bones to represent a human's pose in both 2D and 3D. Here we will introduce the definition of some of the popular skeletons these days.\n",
    "\n",
    "You can find many instructions and visualizations in [MMPose Docs for 2D Key-points Datasets](https://mmpose.readthedocs.io/en/latest/dataset_zoo/2d_body_keypoint.html) (including COCO, MPII, MPII-TRB, AI Challenger, CrowdPose, OCHuman, MHP, Human-Art, ExLPose) and [MMPose Docs for 3D Key-points Datasets](https://mmpose.readthedocs.io/en/latest/dataset_zoo/3d_body_keypoint.html) (including Human3.6M, CMU Panoptic, Campus/Shelf, UBody).\n",
    "\n",
    "You can get the visualization of these body data format in these datasets. And I will present some details about them."
   ]
  },
  {
   "cell_type": "markdown",
   "metadata": {},
   "source": [
    "## COCO 17 (MMPose Ver)\n",
    "\n",
    "Here we follow the instruction of [MMPose Docs](https://mmpose.readthedocs.io/en/latest/dataset_zoo/2d_body_keypoint.html).\n",
    "And in the visualization, you are supposed to be aware of the fact that COCO 17 is not tree-structured.\n",
    "\n",
    "![](https://user-images.githubusercontent.com/100993824/227864552-489d03de-e1b8-4ca2-8ac1-80dd99826cb7.png)"
   ]
  },
  {
   "cell_type": "code",
   "execution_count": 14,
   "metadata": {},
   "outputs": [
    {
     "name": "stdout",
     "output_type": "stream",
     "text": [
      "{0: 'nose', 1: 'left_eye', 2: 'right_eye', 3: 'left_ear', 4: 'right_ear', 5: 'left_shoulder', 6: 'right_shoulder', 7: 'left_elbow', 8: 'right_elbow', 9: 'left_wrist', 10: 'right_wrist', 11: 'left_hip', 12: 'right_hip', 13: 'left_knee', 14: 'right_knee', 15: 'left_ankle', 16: 'right_ankle'}\n",
      "{'nose': 0, 'left_eye': 1, 'right_eye': 2, 'left_ear': 3, 'right_ear': 4, 'left_shoulder': 5, 'right_shoulder': 6, 'left_elbow': 7, 'right_elbow': 8, 'left_wrist': 9, 'right_wrist': 10, 'left_hip': 11, 'right_hip': 12, 'left_knee': 13, 'right_knee': 14, 'left_ankle': 15, 'right_ankle': 16}\n",
      "[('left_ankle', 'left_knee'), ('left_knee', 'left_hip'), ('right_ankle', 'right_knee'), ('right_knee', 'right_hip'), ('left_hip', 'right_hip'), ('left_shoulder', 'left_hip'), ('right_shoulder', 'right_hip'), ('left_shoulder', 'right_shoulder'), ('left_shoulder', 'left_elbow'), ('right_shoulder', 'right_elbow'), ('left_elbow', 'left_wrist'), ('right_elbow', 'right_wrist'), ('left_eye', 'right_eye'), ('nose', 'left_eye'), ('nose', 'right_eye'), ('left_eye', 'left_ear'), ('right_eye', 'right_ear'), ('left_ear', 'left_shoulder'), ('right_ear', 'right_shoulder')]\n",
      "[[15, 13], [13, 11], [16, 14], [14, 12], [11, 12], [5, 11], [6, 12], [5, 6], [5, 7], [6, 8], [7, 9], [8, 10], [1, 2], [0, 1], [0, 2], [1, 3], [2, 4], [3, 5], [4, 6]]\n"
     ]
    }
   ],
   "source": [
    "kp_names = [ 'nose', 'left_eye', 'right_eye', 'left_ear', 'right_ear', 'left_shoulder', 'right_shoulder', 'left_elbow', 'right_elbow', 'left_wrist', 'right_wrist', 'left_hip', 'right_hip', 'left_knee', 'right_knee', 'left_ankle', 'right_ankle' ]\n",
    "kp_idx2name = { i: kp_names[i] for i in range(len(kp_names)) }\n",
    "kp_name2idx = { kp_names[i]: i for i in range(len(kp_names)) }\n",
    "\n",
    "bones_idx = [[15, 13], [13, 11], [16, 14], [14, 12], [11, 12], [5, 11], [6, 12], [5, 6], [5, 7], [6, 8], [7, 9], [8, 10], [1, 2], [0, 1], [0, 2], [1, 3], [2, 4], [3, 5], [4, 6]]\n",
    "bones_names = [ (kp_names[i], kp_names[j]) for i, j in bones_idx ]\n",
    "\n",
    "# Print what you need.\n",
    "print (kp_idx2name)\n",
    "print (kp_name2idx)\n",
    "print (bones_names)\n",
    "print (bones_idx)"
   ]
  },
  {
   "cell_type": "markdown",
   "metadata": {},
   "source": [
    "## SMPL 24\n",
    "\n",
    "In this section, I will joints introduce the definition of the skeleton outputted by SMPL model. \n",
    "\n",
    "It's a tree-structured kinematic skeleton with 24 joints. \n",
    "\n",
    "![](assets/SMPL-joints.png)"
   ]
  },
  {
   "cell_type": "code",
   "execution_count": 15,
   "metadata": {},
   "outputs": [
    {
     "name": "stdout",
     "output_type": "stream",
     "text": [
      "['Pelvis', 'L_Hip', 'R_Hip', 'Spine1', 'L_Knee', 'R_Knee', 'Spine2', 'L_Ankle', 'R_Ankle', 'Spine3', 'L_Foot', 'R_Foot', 'Neck', 'L_Collar', 'R_Collar', 'Head', 'L_Shoulder', 'R_Shoulder', 'L_Elbow', 'R_Elbow', 'L_Wrist', 'R_Wrist', 'L_Hand', 'R_Hand']\n",
      "{0: 'Pelvis', 1: 'L_Hip', 2: 'R_Hip', 3: 'Spine1', 4: 'L_Knee', 5: 'R_Knee', 6: 'Spine2', 7: 'L_Ankle', 8: 'R_Ankle', 9: 'Spine3', 10: 'L_Foot', 11: 'R_Foot', 12: 'Neck', 13: 'L_Collar', 14: 'R_Collar', 15: 'Head', 16: 'L_Shoulder', 17: 'R_Shoulder', 18: 'L_Elbow', 19: 'R_Elbow', 20: 'L_Wrist', 21: 'R_Wrist', 22: 'L_Hand', 23: 'R_Hand'}\n",
      "{'Pelvis': 0, 'L_Hip': 1, 'R_Hip': 2, 'Spine1': 3, 'L_Knee': 4, 'R_Knee': 5, 'Spine2': 6, 'L_Ankle': 7, 'R_Ankle': 8, 'Spine3': 9, 'L_Foot': 10, 'R_Foot': 11, 'Neck': 12, 'L_Collar': 13, 'R_Collar': 14, 'Head': 15, 'L_Shoulder': 16, 'R_Shoulder': 17, 'L_Elbow': 18, 'R_Elbow': 19, 'L_Wrist': 20, 'R_Wrist': 21, 'L_Hand': 22, 'R_Hand': 23}\n",
      "[[0, 1, 4, 7, 10], [0, 2, 5, 8, 11], [0, 3, 6, 9, 12, 15], [12, 13, 16, 18, 20, 22], [12, 14, 17, 19, 21, 23]]\n",
      "[[0, 1], [1, 4], [4, 7], [7, 10], [0, 2], [2, 5], [5, 8], [8, 11], [0, 3], [3, 6], [6, 9], [9, 12], [12, 15], [12, 13], [13, 16], [16, 18], [18, 20], [20, 22], [12, 14], [14, 17], [17, 19], [19, 21], [21, 23]]\n",
      "[-1, 0, 0, 0, 1, 2, 3, 4, 5, 6, 7, 8, 9, 12, 12, 12, 13, 14, 16, 17, 18, 19, 20, 21]\n",
      "[[127, 0, 0], [148, 21, 21], [169, 41, 41], [191, 63, 63], [0, 127, 0], [21, 148, 21], [41, 169, 41], [63, 191, 63], [0, 0, 127], [15, 15, 143], [31, 31, 159], [47, 47, 175], [63, 63, 191], [0, 127, 127], [15, 143, 143], [31, 159, 159], [47, 175, 175], [63, 191, 191], [127, 0, 127], [143, 15, 143], [159, 31, 159], [175, 47, 175], [191, 63, 191]]\n"
     ]
    }
   ],
   "source": [
    "joint_names = [ 'Pelvis', 'L_Hip', 'R_Hip', 'Spine1', 'L_Knee', 'R_Knee', 'Spine2', 'L_Ankle', 'R_Ankle', 'Spine3', 'L_Foot', 'R_Foot', 'Neck', 'L_Collar', 'R_Collar', 'Head', 'L_Shoulder', 'R_Shoulder', 'L_Elbow', 'R_Elbow', 'L_Wrist', 'R_Wrist', 'L_Hand', 'R_Hand' ]\n",
    "joint_idx2name = { i: joint_names[i] for i in range(len(joint_names)) }\n",
    "joint_name2idx = { joint_names[i]: i for i in range(len(joint_names)) }\n",
    "\n",
    "bones = [\n",
    "    [ 0,  1], [ 1,  4], [ 4,  7], [ 7, 10],           # left leg\n",
    "    [ 0,  2], [ 2,  5], [ 5,  8], [ 8, 11],           # right leg\n",
    "    [ 0,  3], [ 3,  6], [ 6,  9], [ 9, 12], [12, 15], # spine & head\n",
    "    [12, 13], [13, 16], [16, 18], [18, 20], [20, 22], # left arm\n",
    "    [12, 14], [14, 17], [17, 19], [19, 21], [21, 23], # right arm\n",
    "]\n",
    "chains = [\n",
    "    [0, 1, 4, 7, 10],         # left leg\n",
    "    [0, 2, 5, 8, 11],         # right leg\n",
    "    [0, 3, 6, 9, 12, 15],     # spine & head\n",
    "    [12, 13, 16, 18, 20, 22], # left arm\n",
    "    [12, 14, 17, 19, 21, 23], # right arm\n",
    "]\n",
    "parent = [-1, 0, 0, 0, 1, 2, 3, 4, 5, 6, 7, 8, 9, 12, 12, 12, 13, 14, 16, 17, 18, 19, 20, 21]\n",
    "\n",
    "# For fast visualization.\n",
    "bone_colors = [\n",
    "    [127,   0,   0], [148,  21,  21], [169,  41,  41], [191,  63,  63],                  # red\n",
    "    [  0, 127,   0], [ 21, 148,  21], [ 41, 169,  41], [ 63, 191,  63],                  # green\n",
    "    [  0,   0, 127], [ 15,  15, 143], [ 31,  31, 159], [ 47,  47, 175], [ 63,  63, 191], # blue\n",
    "    [  0, 127, 127], [ 15, 143, 143], [ 31, 159, 159], [ 47, 175, 175], [ 63, 191, 191], # cyan\n",
    "    [127,   0, 127], [143,  15, 143], [159,  31, 159], [175,  47, 175], [191,  63, 191], # magenta\n",
    "]\n",
    "\n",
    "# Print what you need.\n",
    "print(joint_names)\n",
    "print(joint_idx2name)\n",
    "print(joint_name2idx)\n",
    "print(chains)\n",
    "print(bones)\n",
    "print(parent)\n",
    "print(bone_colors)"
   ]
  }
 ],
 "metadata": {
  "kernelspec": {
   "display_name": "lh",
   "language": "python",
   "name": "python3"
  },
  "language_info": {
   "codemirror_mode": {
    "name": "ipython",
    "version": 3
   },
   "file_extension": ".py",
   "mimetype": "text/x-python",
   "name": "python",
   "nbconvert_exporter": "python",
   "pygments_lexer": "ipython3",
   "version": "3.8.17"
  }
 },
 "nbformat": 4,
 "nbformat_minor": 2
}
