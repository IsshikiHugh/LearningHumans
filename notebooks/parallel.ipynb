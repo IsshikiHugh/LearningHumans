{
 "cells": [
  {
   "cell_type": "markdown",
   "metadata": {},
   "source": [
    "# Parallel\n",
    "\n",
    "Sometimes we need to parallelize our code to save time."
   ]
  },
  {
   "cell_type": "markdown",
   "metadata": {},
   "source": [
    "Since `concurrent.futures.ProcessPoolExecutor()` fails in JupyterNotebooks, the implementation is in the python file. The content of the python file is as follows:\n",
    "\n",
    "```python\n",
    "import time\n",
    "import random\n",
    "import joblib\n",
    "\n",
    "def do_work(i):\n",
    "    # sleep for random time, but all shorter than 1s.\n",
    "    random.seed(i)\n",
    "    sleep_time = random.random()\n",
    "    print(f'{i}: sleep {sleep_time:.2f}s...')\n",
    "    time.sleep(sleep_time)\n",
    "    print(f'{i}: awake!')\n",
    "    return i\n",
    "\n",
    "def main():\n",
    "    results = joblib.Parallel(n_jobs=5)(joblib.delayed(do_work)(i) for i in range(10))\n",
    "    print(f'Gathered results: {results}')\n",
    "```"
   ]
  },
  {
   "cell_type": "code",
   "execution_count": 1,
   "metadata": {},
   "outputs": [
    {
     "name": "stdout",
     "output_type": "stream",
     "text": [
      "0: sleep 0.84s...\n",
      "1: sleep 0.13s...\n",
      "2: sleep 0.96s...\n",
      "3: sleep 0.24s...\n",
      "4: sleep 0.24s...\n",
      "1: awake!\n",
      "5: sleep 0.62s...\n",
      "3: awake!\n",
      "6: sleep 0.79s...\n",
      "4: awake!\n",
      "7: sleep 0.32s...\n",
      "7: awake!\n",
      "8: sleep 0.23s...\n",
      "5: awake!\n",
      "9: sleep 0.46s...\n",
      "0: awake!\n",
      "8: awake!\n",
      "2: awake!\n",
      "6: awake!\n",
      "9: awake!\n",
      "Gathered results: [0, 1, 2, 3, 4, 5, 6, 7, 8, 9]\n"
     ]
    }
   ],
   "source": [
    "from parallel import *\n",
    "main()"
   ]
  },
  {
   "cell_type": "markdown",
   "metadata": {},
   "source": [
    "As you can see, they run in parallel and return the results in order."
   ]
  }
 ],
 "metadata": {
  "kernelspec": {
   "display_name": "lh",
   "language": "python",
   "name": "python3"
  },
  "language_info": {
   "codemirror_mode": {
    "name": "ipython",
    "version": 3
   },
   "file_extension": ".py",
   "mimetype": "text/x-python",
   "name": "python",
   "nbconvert_exporter": "python",
   "pygments_lexer": "ipython3",
   "version": "3.8.17"
  }
 },
 "nbformat": 4,
 "nbformat_minor": 2
}
